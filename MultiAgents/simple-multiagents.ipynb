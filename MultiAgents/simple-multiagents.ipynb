{
 "cells": [
  {
   "cell_type": "code",
   "execution_count": 8,
   "id": "a8871c60",
   "metadata": {},
   "outputs": [],
   "source": [
    "from typing import TypedDict,Annotated\n",
    "from dotenv import load_dotenv\n",
    "from langchain_core.messages import AIMessage,HumanMessage,SystemMessage\n",
    "from langchain_groq import ChatGroq\n",
    "from langgraph.graph import StateGraph,END,add_messages,START\n",
    "from langchain_community.tools import TavilySearchResults\n",
    "from langgraph.prebuilt import ToolNode\n",
    "load_dotenv()\n",
    "\n",
    "llm = ChatGroq(\n",
    "    model=\"llama-3.1-8b-instant\",\n",
    ")\n",
    "search_tool = TavilySearchResults(max_results=4)\n",
    "llm_with_tools = llm.bind_tools([search_tool])"
   ]
  },
  {
   "cell_type": "code",
   "execution_count": 9,
   "id": "9cf347f4",
   "metadata": {},
   "outputs": [],
   "source": [
    "class ChildState(TypedDict):\n",
    "    messages: Annotated[list,add_messages]"
   ]
  },
  {
   "cell_type": "code",
   "execution_count": 10,
   "id": "d4b46109",
   "metadata": {},
   "outputs": [],
   "source": [
    "def llm_node(state: ChildState):\n",
    "    return {\n",
    "        \"messages\":[llm_with_tools.invoke(state[\"messages\"])]\n",
    "    }\n",
    "def conditional_edge(state: ChildState):\n",
    " return \"tool_node\" if hasattr(state[\"messages\"][-1],\"tool_calls\") and len(state[\"messages\"][-1].tool_calls)>0 else END"
   ]
  },
  {
   "cell_type": "code",
   "execution_count": 11,
   "id": "84628a44",
   "metadata": {},
   "outputs": [],
   "source": [
    "tool_node = ToolNode([search_tool],messages_key=\"messages\")\n",
    "child_graph = StateGraph(ChildState)\n",
    "child_graph.add_node(\"llm_node\",llm_node)\n",
    "child_graph.add_node(\"tool_node\",tool_node)\n",
    "child_graph.add_conditional_edges(\"llm_node\",conditional_edge,{\"tool_node\":\"tool_node\",END:END})\n",
    "child_graph.add_edge(\"tool_node\",\"llm_node\")\n",
    "child_graph.set_entry_point(\"llm_node\")\n",
    "child_app = child_graph.compile()"
   ]
  },
  {
   "cell_type": "code",
   "execution_count": 12,
   "id": "b202eec3",
   "metadata": {},
   "outputs": [],
   "source": [
    "class ParentState(TypedDict):\n",
    "    messages: Annotated[list,add_messages]"
   ]
  },
  {
   "cell_type": "code",
   "execution_count": 15,
   "id": "ced2e0ab",
   "metadata": {},
   "outputs": [
    {
     "data": {
      "text/plain": [
       "{'messages': [HumanMessage(content='whats the weather like in vallabhapuram today, and weather in banglore yesterday', additional_kwargs={}, response_metadata={}, id='929fd0c7-9642-49f9-8fb3-70ecfade08f6'),\n",
       "  AIMessage(content='', additional_kwargs={'tool_calls': [{'id': 'wqyqywn5b', 'function': {'arguments': '{\"query\":\"current weather in Vallabhapuram today\"}', 'name': 'tavily_search_results_json'}, 'type': 'function'}, {'id': '3ggrbcg6k', 'function': {'arguments': '{\"query\":\"Banglore weather yesterday\"}', 'name': 'tavily_search_results_json'}, 'type': 'function'}]}, response_metadata={'token_usage': {'completion_tokens': 46, 'prompt_tokens': 595, 'total_tokens': 641, 'completion_time': 0.061333333, 'prompt_time': 0.035325389, 'queue_time': -0.09202105899999999, 'total_time': 0.096658722}, 'model_name': 'llama-3.1-8b-instant', 'system_fingerprint': 'fp_8ab2e50475', 'finish_reason': 'tool_calls', 'logprobs': None}, id='run--832401eb-5324-4d55-8b66-3edbd6b0abc0-0', tool_calls=[{'name': 'tavily_search_results_json', 'args': {'query': 'current weather in Vallabhapuram today'}, 'id': 'wqyqywn5b', 'type': 'tool_call'}, {'name': 'tavily_search_results_json', 'args': {'query': 'Banglore weather yesterday'}, 'id': '3ggrbcg6k', 'type': 'tool_call'}], usage_metadata={'input_tokens': 595, 'output_tokens': 46, 'total_tokens': 641}),\n",
       "  ToolMessage(content='[{\"title\": \"10-Day Weather Forecast for Vallabhapuram, Andhra Pradesh, India\", \"url\": \"https://weather.com/weather/tenday/l/193d59cfcdab98055ed8d94b4309d868f5e03781857f9592a483fffc97efe2b3\", \"content\": \"## recents\\\\n\\\\nMenu\\\\n\\\\n## Weather Forecasts\\\\n\\\\n## Radar & Maps\\\\n\\\\n## News & Media\\\\n\\\\n## Products & Account\\\\n\\\\n## Lifestyle\\\\n\\\\n### Specialty Forecasts\\\\n\\\\n# 10 Day Weather-Vallabhapuram, Andhra Pradesh, India\\\\n\\\\n## Tonight\\\\n\\\\n## Wed 09 | Night\\\\n\\\\nCloudy with occasional showers overnight. Hazy. Low 83F. Winds light and variable. Chance of rain 50%.\\\\n\\\\nundefined\\\\n\\\\nHeads-up\\\\n\\\\nSevere Storms, Flooding Possible In East\\\\n\\\\n## Thu 10\\\\n\\\\n## Thu 10 | Day\\\\n\\\\nMainly cloudy. Hazy. High 98F. Winds WNW at 10 to 20 mph.\\\\n\\\\n## Thu 10 | Night [...] Mostly cloudy. Hazy. Low 83F. Winds W at 5 to 10 mph.\\\\n\\\\n## Fri 11\\\\n\\\\n## Fri 11 | Day\\\\n\\\\nMostly cloudy skies. Hazy. High 98F. Winds WNW at 10 to 20 mph.\\\\n\\\\n## Fri 11 | Night\\\\n\\\\nPartly cloudy skies during the evening will give way to cloudy skies overnight. Hazy. Low 83F. Winds W at 5 to 10 mph.\\\\n\\\\n## Sat 12\\\\n\\\\n## Sat 12 | Day\\\\n\\\\nIntervals of clouds and sunshine in the morning with more clouds for later in the day. Hazy. High 98F. Winds WNW at 10 to 20 mph.\\\\n\\\\n## Sat 12 | Night [...] Considerable cloudiness with occasional rain showers. Low near 80F. Winds light and variable. Chance of rain 60%.\\\\n\\\\n## Sun 20\\\\n\\\\n## Sun 20 | Day\\\\n\\\\nConsiderable cloudiness with occasional rain showers. Hazy. High 93F. Winds WNW at 10 to 15 mph. Chance of rain 50%.\\\\n\\\\n## Sun 20 | Night\\\\n\\\\nShowers early becoming a steady light rain late. Low 81F. Winds W at 5 to 10 mph. Chance of rain 60%.\\\\n\\\\n## Mon 21\\\\n\\\\n## Mon 21 | Day\", \"score\": 0.7969415}, {\"title\": \"10-day weather forecast for Vallabhapuram, Andhra Pradesh\", \"url\": \"https://weather.com/en-IN/weather/tenday/l/205c1fdf49f6265ea46bdffbf01a2ad99a98a23ba9941457d1024e9d4a7eaf80\", \"content\": \"## recents\\\\n\\\\nMenu\\\\n\\\\n## Forecast\\\\n\\\\n## Maps\\\\n\\\\n## Products & Account\\\\n\\\\n### Special Forecasts\\\\n\\\\n# 10-Day Weather-Vallabhapuram, Andhra Pradesh\\\\n\\\\n## Tonight\\\\n\\\\n## Wed 09 | Night\\\\n\\\\nShowers late at night. Hazy. Low 28°C. Winds W and variable. Chance of rain 50%.\\\\n\\\\n## Thu 10\\\\n\\\\n## Thu 10 | Day\\\\n\\\\nMostly cloudy. Hazy. High 37°C. Winds WNW at 15 to 30 km/h.\\\\n\\\\n## Thu 10 | Night\\\\n\\\\nMostly cloudy. Hazy. Low 28°C. Winds W at 10 to 15 km/h.\\\\n\\\\n## Fri 11\\\\n\\\\n## Fri 11 | Day\\\\n\\\\nMostly cloudy. Hazy. High 37°C. Winds WNW at 15 to 30 km/h. [...] Weather Channel\\\\n\\\\n© The Weather Company, LLC 2025 [...] ## Fri 11 | Night\\\\n\\\\nPartly cloudy. Hazy. Low 28°C. Winds W at 10 to 15 km/h.\\\\n\\\\n## Sat 12\\\\n\\\\n## Sat 12 | Day\\\\n\\\\nPartly cloudy. Hazy. High 37°C. Winds WNW at 15 to 30 km/h.\\\\n\\\\n## Sat 12 | Night\\\\n\\\\nShowers. Hazy. Low 28°C. Winds W at 10 to 15 km/h. Chance of rain 40%.\\\\n\\\\n## Sun 13\\\\n\\\\n## Sun 13 | Day\\\\n\\\\nMostly cloudy. Hazy. High 37°C. Winds WNW at 15 to 25 km/h.\\\\n\\\\n## Sun 13 | Night\\\\n\\\\nShowers early. Hazy. Low 28°C. Winds WSW at 10 to 15 km/h. Chance of rain 40%.\\\\n\\\\n## Mon 14\\\\n\\\\n## Mon 14 | Day\", \"score\": 0.79561085}, {\"title\": \"Vallabhapuram Village , Kollipara Mandal , Guntur District\", \"url\": \"http://www.onefivenine.com/india/villages/Guntur/Kollipara/Vallabhapuram\", \"content\": \"Explore India onefivenine\\\\n\\\\n|  |  |  |  |  |  |  |  |  |  |  |  |\\\\n| --- | --- | --- | --- | --- | --- | --- | --- | --- | --- | --- | --- |\\\\n|  | Home | City Bus | Maps | Villages | Cities | Rail | Tourist Places | School | College | Pin Codes | Corona Cases Count |\\\\n\\\\n|  |\\\\n| --- |\\\\n| Distance Calculator     Bus Services    IFSC Codes     Trace Mobile Number     Weather     Search Place     Trace IP      Available Cash ATM/Banks      Locate Polling Booth     Report an Error     contact     People) | [...] |  |  |\\\\n| --- | --- |\\\\n| Census Parameter | Census Data |\\\\n| Total Population | 6753 |\\\\n| Total No of Houses | 2231 |\\\\n| Female Population % | 50.9 % ( 3436) |\\\\n| Total Literacy rate % | 66.1 % ( 4466) |\\\\n| Female Literacy rate | 31.9 % ( 2156) |\\\\n| Scheduled Tribes Population % | 2.2 % ( 147) |\\\\n| Scheduled Caste Population % | 25.2 % ( 1701) |\\\\n| Working Population % | 49.4 % |\\\\n| Child(0 -6) Population by 2011 | 437 |\\\\n| Girl Child(0 -6) Population % by 2011 | 50.3 % ( 220) | [...] |  |\\\\n| --- |\\\\n|  |\\\\n|  |\\\\n| Choose Any of the Below Contact List |\\\\n| MANUAL) |\\\\n\\\\n|  |  |\\\\n| --- | --- |\\\\n| Enter Your Mail id. | |\\\\n| Your Name\\\\\\\\: | Your Email\\\\\\\\: |\\\\n| \\\\\\\\_\\\\\\\\_\\\\\\\\_\\\\\\\\_\\\\\\\\_\\\\\\\\_\\\\\\\\_\\\\\\\\_\\\\\\\\_\\\\\\\\_\\\\\\\\_\\\\\\\\_\\\\\\\\_\\\\\\\\_\\\\\\\\_\\\\\\\\_\\\\\\\\_\\\\\\\\_\\\\\\\\_\\\\\\\\_\\\\\\\\_\\\\\\\\_\\\\\\\\_\\\\\\\\_\\\\\\\\_\\\\\\\\_\\\\\\\\_\\\\\\\\_\\\\\\\\_\\\\\\\\_\\\\\\\\_\\\\\\\\_\\\\\\\\_\\\\\\\\_\\\\\\\\_\\\\\\\\_\\\\\\\\_\\\\\\\\_\\\\\\\\_\\\\\\\\_\\\\\\\\_\\\\\\\\_\\\\\\\\_\\\\\\\\_\\\\\\\\_\\\\\\\\_  Enter The Mails to whoom you want to refer | |\\\\n| Name1\\\\\\\\: | Email1\\\\\\\\: |\\\\n| Name 2: | Email 2: |\\\\n| Name 3: | Email 3: |\\\\n| Name 4: | Email 4: |\\\\n| SEND MAIL) | |\", \"score\": 0.2543612}, {\"title\": \"Vallabhapuram, Nalgonda district - Wikipedia\", \"url\": \"https://en.wikipedia.org/wiki/Vallabhapuram,_Nalgonda_district\", \"content\": \"| Elevation | 17.0700 m (56.0039 ft) |\\\\n| Telugu,Hindi,English,Urdu | |\\\\n| • Official | Telugu |\\\\n| Time zone | UTC+5:30 (IST) |\\\\n| PIN | 508278 |\\\\n| Telephone code | 08689 |\\\\n| Vehicle registration | TS |\\\\n| Website | telangana.gov.in | [...] | Vallabhapuram | |\\\\n| --- | --- |\\\\n| village | |\\\\n| Vallabhapuram is located in Telangana Vallabhapuram  Vallabhapuram  Location in Telangana, India Show map of Telangana  Vallabhapuram is located in India Vallabhapuram  Vallabhapuram  Vallabhapuram (India) Show map of India | |\\\\n| Coordinates: 17°03′36″N 79°18′00″E\\ufeff / \\ufeff17.0600°N 79.3°E\\ufeff / 17.0600; 79.3 | |\\\\n| Country | India |\\\\n| State | Telangana |\\\\n| District | Nalgonda |\\\\n| Founded by | Matta Reddy Vanteddu | [...] Vallabhapuram is located in Telangana\\\\nVallabhapuram\\\\nVallabhapuram is located in India\\\\nVallabhapuram\\\\n\\\\nVallabhapuram is a village and Gram panchayat of Nidamanoor, mandal, Nalgonda district, in Telangana state.\\\\n\\\\n`{{cite web}}`\\\\n\\\\n|  |\\\\n| --- |\\\\n| This article about a location in Nalgonda district, Telangana is a stub. You can help Wikipedia by expanding it. |\\\\n\\\\nThis article about a location in Nalgonda district, Telangana is a stub. You can help Wikipedia by expanding it.\", \"score\": 0.21016626}]', name='tavily_search_results_json', id='f6ad91ec-c651-4904-8d8d-57111b1988e0', tool_call_id='wqyqywn5b', artifact={'query': 'current weather in Vallabhapuram today', 'follow_up_questions': None, 'answer': None, 'images': [], 'results': [{'url': 'https://weather.com/weather/tenday/l/193d59cfcdab98055ed8d94b4309d868f5e03781857f9592a483fffc97efe2b3', 'title': '10-Day Weather Forecast for Vallabhapuram, Andhra Pradesh, India', 'content': '## recents\\n\\nMenu\\n\\n## Weather Forecasts\\n\\n## Radar & Maps\\n\\n## News & Media\\n\\n## Products & Account\\n\\n## Lifestyle\\n\\n### Specialty Forecasts\\n\\n# 10 Day Weather-Vallabhapuram, Andhra Pradesh, India\\n\\n## Tonight\\n\\n## Wed 09 | Night\\n\\nCloudy with occasional showers overnight. Hazy. Low 83F. Winds light and variable. Chance of rain 50%.\\n\\nundefined\\n\\nHeads-up\\n\\nSevere Storms, Flooding Possible In East\\n\\n## Thu 10\\n\\n## Thu 10 | Day\\n\\nMainly cloudy. Hazy. High 98F. Winds WNW at 10 to 20 mph.\\n\\n## Thu 10 | Night [...] Mostly cloudy. Hazy. Low 83F. Winds W at 5 to 10 mph.\\n\\n## Fri 11\\n\\n## Fri 11 | Day\\n\\nMostly cloudy skies. Hazy. High 98F. Winds WNW at 10 to 20 mph.\\n\\n## Fri 11 | Night\\n\\nPartly cloudy skies during the evening will give way to cloudy skies overnight. Hazy. Low 83F. Winds W at 5 to 10 mph.\\n\\n## Sat 12\\n\\n## Sat 12 | Day\\n\\nIntervals of clouds and sunshine in the morning with more clouds for later in the day. Hazy. High 98F. Winds WNW at 10 to 20 mph.\\n\\n## Sat 12 | Night [...] Considerable cloudiness with occasional rain showers. Low near 80F. Winds light and variable. Chance of rain 60%.\\n\\n## Sun 20\\n\\n## Sun 20 | Day\\n\\nConsiderable cloudiness with occasional rain showers. Hazy. High 93F. Winds WNW at 10 to 15 mph. Chance of rain 50%.\\n\\n## Sun 20 | Night\\n\\nShowers early becoming a steady light rain late. Low 81F. Winds W at 5 to 10 mph. Chance of rain 60%.\\n\\n## Mon 21\\n\\n## Mon 21 | Day', 'score': 0.7969415, 'raw_content': None}, {'url': 'https://weather.com/en-IN/weather/tenday/l/205c1fdf49f6265ea46bdffbf01a2ad99a98a23ba9941457d1024e9d4a7eaf80', 'title': '10-day weather forecast for Vallabhapuram, Andhra Pradesh', 'content': '## recents\\n\\nMenu\\n\\n## Forecast\\n\\n## Maps\\n\\n## Products & Account\\n\\n### Special Forecasts\\n\\n# 10-Day Weather-Vallabhapuram, Andhra Pradesh\\n\\n## Tonight\\n\\n## Wed 09 | Night\\n\\nShowers late at night. Hazy. Low 28°C. Winds W and variable. Chance of rain 50%.\\n\\n## Thu 10\\n\\n## Thu 10 | Day\\n\\nMostly cloudy. Hazy. High 37°C. Winds WNW at 15 to 30 km/h.\\n\\n## Thu 10 | Night\\n\\nMostly cloudy. Hazy. Low 28°C. Winds W at 10 to 15 km/h.\\n\\n## Fri 11\\n\\n## Fri 11 | Day\\n\\nMostly cloudy. Hazy. High 37°C. Winds WNW at 15 to 30 km/h. [...] Weather Channel\\n\\n© The Weather Company, LLC 2025 [...] ## Fri 11 | Night\\n\\nPartly cloudy. Hazy. Low 28°C. Winds W at 10 to 15 km/h.\\n\\n## Sat 12\\n\\n## Sat 12 | Day\\n\\nPartly cloudy. Hazy. High 37°C. Winds WNW at 15 to 30 km/h.\\n\\n## Sat 12 | Night\\n\\nShowers. Hazy. Low 28°C. Winds W at 10 to 15 km/h. Chance of rain 40%.\\n\\n## Sun 13\\n\\n## Sun 13 | Day\\n\\nMostly cloudy. Hazy. High 37°C. Winds WNW at 15 to 25 km/h.\\n\\n## Sun 13 | Night\\n\\nShowers early. Hazy. Low 28°C. Winds WSW at 10 to 15 km/h. Chance of rain 40%.\\n\\n## Mon 14\\n\\n## Mon 14 | Day', 'score': 0.79561085, 'raw_content': None}, {'url': 'http://www.onefivenine.com/india/villages/Guntur/Kollipara/Vallabhapuram', 'title': 'Vallabhapuram Village , Kollipara Mandal , Guntur District', 'content': 'Explore India onefivenine\\n\\n|  |  |  |  |  |  |  |  |  |  |  |  |\\n| --- | --- | --- | --- | --- | --- | --- | --- | --- | --- | --- | --- |\\n|  | Home | City Bus | Maps | Villages | Cities | Rail | Tourist Places | School | College | Pin Codes | Corona Cases Count |\\n\\n|  |\\n| --- |\\n| Distance Calculator     Bus Services    IFSC Codes     Trace Mobile Number     Weather     Search Place     Trace IP      Available Cash ATM/Banks      Locate Polling Booth     Report an Error     contact     People) | [...] |  |  |\\n| --- | --- |\\n| Census Parameter | Census Data |\\n| Total Population | 6753 |\\n| Total No of Houses | 2231 |\\n| Female Population % | 50.9 % ( 3436) |\\n| Total Literacy rate % | 66.1 % ( 4466) |\\n| Female Literacy rate | 31.9 % ( 2156) |\\n| Scheduled Tribes Population % | 2.2 % ( 147) |\\n| Scheduled Caste Population % | 25.2 % ( 1701) |\\n| Working Population % | 49.4 % |\\n| Child(0 -6) Population by 2011 | 437 |\\n| Girl Child(0 -6) Population % by 2011 | 50.3 % ( 220) | [...] |  |\\n| --- |\\n|  |\\n|  |\\n| Choose Any of the Below Contact List |\\n| MANUAL) |\\n\\n|  |  |\\n| --- | --- |\\n| Enter Your Mail id. | |\\n| Your Name\\\\: | Your Email\\\\: |\\n| \\\\_\\\\_\\\\_\\\\_\\\\_\\\\_\\\\_\\\\_\\\\_\\\\_\\\\_\\\\_\\\\_\\\\_\\\\_\\\\_\\\\_\\\\_\\\\_\\\\_\\\\_\\\\_\\\\_\\\\_\\\\_\\\\_\\\\_\\\\_\\\\_\\\\_\\\\_\\\\_\\\\_\\\\_\\\\_\\\\_\\\\_\\\\_\\\\_\\\\_\\\\_\\\\_\\\\_\\\\_\\\\_\\\\_  Enter The Mails to whoom you want to refer | |\\n| Name1\\\\: | Email1\\\\: |\\n| Name 2: | Email 2: |\\n| Name 3: | Email 3: |\\n| Name 4: | Email 4: |\\n| SEND MAIL) | |', 'score': 0.2543612, 'raw_content': None}, {'url': 'https://en.wikipedia.org/wiki/Vallabhapuram,_Nalgonda_district', 'title': 'Vallabhapuram, Nalgonda district - Wikipedia', 'content': '| Elevation | 17.0700 m (56.0039 ft) |\\n| Telugu,Hindi,English,Urdu | |\\n| • Official | Telugu |\\n| Time zone | UTC+5:30 (IST) |\\n| PIN | 508278 |\\n| Telephone code | 08689 |\\n| Vehicle registration | TS |\\n| Website | telangana.gov.in | [...] | Vallabhapuram | |\\n| --- | --- |\\n| village | |\\n| Vallabhapuram is located in Telangana Vallabhapuram  Vallabhapuram  Location in Telangana, India Show map of Telangana  Vallabhapuram is located in India Vallabhapuram  Vallabhapuram  Vallabhapuram (India) Show map of India | |\\n| Coordinates: 17°03′36″N 79°18′00″E\\ufeff / \\ufeff17.0600°N 79.3°E\\ufeff / 17.0600; 79.3 | |\\n| Country | India |\\n| State | Telangana |\\n| District | Nalgonda |\\n| Founded by | Matta Reddy Vanteddu | [...] Vallabhapuram is located in Telangana\\nVallabhapuram\\nVallabhapuram is located in India\\nVallabhapuram\\n\\nVallabhapuram is a village and Gram panchayat of Nidamanoor, mandal, Nalgonda district, in Telangana state.\\n\\n`{{cite web}}`\\n\\n|  |\\n| --- |\\n| This article about a location in Nalgonda district, Telangana is a stub. You can help Wikipedia by expanding it. |\\n\\nThis article about a location in Nalgonda district, Telangana is a stub. You can help Wikipedia by expanding it.', 'score': 0.21016626, 'raw_content': None}], 'response_time': 5.85}),\n",
       "  ToolMessage(content='[{\"title\": \"Bangalore weather in August 2025 - Weather25.com\", \"url\": \"https://www.weather25.com/asia/india/karnataka/bangalore?page=month&month=August\", \"content\": \"weather25.com\\\\nSearch\\\\nweather in India\\\\nRemove from your favorite locations\\\\nAdd to my locations\\\\nShare\\\\nweather in India\\\\n\\\\n# Bangalore weather in August 2025\\\\n\\\\nThe weather in Bangalore in August is hot. The average temperatures are between 20°C and 28°C.\\\\n\\\\nYou can expect rain for roughly half of the month of August in Bangalore. We’re expecting roughly 8 to 15 days of rain, so your rubber boots and umbrella are going to see plenty of use this month if you’re keen on staying dry. [...] Moderate or heavy rain shower\\\\nPatchy rain possible\\\\nPartly cloudy\\\\nPatchy rain possible\\\\nLight rain shower\\\\nLight rain shower\\\\nLight rain shower\\\\nLight rain shower\\\\nPatchy rain possible\\\\nLight rain shower\\\\nLight rain shower\\\\nPatchy rain possible\\\\nCloudy\\\\nPartly cloudy\\\\nPatchy rain possible\\\\nPartly cloudy\\\\nLight rain shower\\\\nTorrential rain shower\\\\nModerate or heavy rain shower\\\\nPatchy rain possible\\\\nModerate or heavy rain shower\\\\nPatchy rain possible\\\\nPatchy rain possible\\\\nPatchy rain possible\\\\nPatchy rain possible [...] Our weather forecast can give you a great sense of what weather to expect in Bangalore in August 2025.\\\\n\\\\nIf you’re planning to visit Bangalore in the near future, we highly recommend that you review the 14 day weather forecast for Bangalore before you arrive.\\\\n\\\\nTemperatures\\\\nRainy Days\\\\nSnowy Days\\\\nDry Days\\\\nRainfall\\\\n10.3\", \"score\": 0.9317675}, {\"title\": \"Past Weather in Bengaluru, Karnataka, India — Yesterday or Further ...\", \"url\": \"https://www.timeanddate.com/weather/india/bengaluru/historic\", \"content\": \"| 11:00 pm |  | 73 °F | Passing clouds. | 13 mph | ↑ | 83% | 29.98 \\\\\"Hg | 4 mi |\\\\n|  |  |  |  |  |  |  |  |  |\\\\n| --- | --- | --- | --- | --- | --- | --- | --- | --- |\\\\n| Weather by CustomWeather, © 2025 | | | | | | | | | [...] | 8:30 pm |  | 77 °F | Passing clouds. | 13 mph | ↑ | 74% | 29.92 \\\\\"Hg | 4 mi |\\\\n| 8:00 pm |  | 77 °F | Passing clouds. | 10 mph | ↑ | 74% | 29.92 \\\\\"Hg | 4 mi |\\\\n| 7:30 pm |  | 77 °F | Passing clouds. | 12 mph | ↑ | 74% | 29.92 \\\\\"Hg | 4 mi |\\\\n| 7:00 pm |  | 79 °F | Broken clouds. | 15 mph | ↑ | 70% | 29.89 \\\\\"Hg | 4 mi |\\\\n| 6:30 pm |  | 79 °F | Broken clouds. | 15 mph | ↑ | 70% | 29.89 \\\\\"Hg | 4 mi |\\\\n| 6:00 pm |  | 82 °F | Broken clouds. | 12 mph | ↑ | 62% | 29.89 \\\\\"Hg | 4 mi | [...] | 11:30 am |  | 81 °F | Scattered clouds. | 16 mph | ↑ | 66% | 29.95 \\\\\"Hg | N/A |\\\\n| 11:00 am |  | 81 °F | Scattered clouds. | 18 mph | ↑ | 66% | 29.95 \\\\\"Hg | 5 mi |\\\\n| 10:30 am |  | 81 °F | Scattered clouds. | 16 mph | ↑ | 66% | 29.95 \\\\\"Hg | 5 mi |\\\\n| 10:00 am |  | 79 °F | Scattered clouds. | 16 mph | ↑ | 70% | 29.95 \\\\\"Hg | 5 mi |\\\\n| 9:30 am |  | 77 °F | Scattered clouds. | 16 mph | ↑ | 74% | 29.95 \\\\\"Hg | 5 mi |\\\\n| 9:00 am |  | 75 °F | Scattered clouds. | 15 mph | ↑ | 83% | 29.95 \\\\\"Hg | 5 mi |\", \"score\": 0.8559598}, {\"title\": \"Bangalore historical past weather | Weather25.com\", \"url\": \"https://www.weather25.com/asia/india/karnataka/bangalore?page=past-weather\", \"content\": \"weather25.com\\\\nSearch\\\\nweather in India\\\\nRemove from your favorite locations\\\\nAdd to my locations\\\\nShare\\\\nweather in India\\\\n\\\\n# Bangalore Historical Past Weather\\\\n\\\\nThis page shows the past year’s weather in Bangalore on .\\\\n\\\\nIt can give you an idea of what the weather in Bangalore might be like on .\\\\n\\\\nTemperature\\\\nChance of rain\\\\nWind\\\\nHumidity\\\\nweather\\\\nweather25.com\\\\n\\\\nBangalore weather data is sourced from official meteorological authorities worldwide, ensuring accuracy and reliability.\", \"score\": 0.44145688}, {\"title\": \"Bengaluru, India Weather History\", \"url\": \"https://www.wunderground.com/history/daily/in/colgong/yesterday\", \"content\": \"The Weather Company Logo\\\\nThe Weather Channel Logo\\\\nWeather Underground Logo\\\\nStorm Radar Logo\\\\n\\\\n© Copyright TWC Product and Technology LLC 2014, 2025 [...] # Bengaluru, Karnataka, India Weather Historystar\\\\\\\\_ratehome\\\\n\\\\nicon\\\\n\\\\nThank you for reporting this station. We will review the data in question.\\\\n\\\\nYou are about to report this weather station for bad data. Please select the information that is incorrect.\\\\n\\\\nSee more\\\\n\\\\n(Reset Map)\\\\n\\\\nNo PWS\\\\n\\\\nReset Map, or Add PWS.\\\\n\\\\nAccess Logo\\\\n\\\\nWe recognize our responsibility to use data and technology for good. We may use or share your data with our data vendors. Take control of your data.\", \"score\": 0.37202653}]', name='tavily_search_results_json', id='0d68884e-92ec-4c8f-837d-e50e156dd91b', tool_call_id='3ggrbcg6k', artifact={'query': 'Banglore weather yesterday', 'follow_up_questions': None, 'answer': None, 'images': [], 'results': [{'url': 'https://www.weather25.com/asia/india/karnataka/bangalore?page=month&month=August', 'title': 'Bangalore weather in August 2025 - Weather25.com', 'content': 'weather25.com\\nSearch\\nweather in India\\nRemove from your favorite locations\\nAdd to my locations\\nShare\\nweather in India\\n\\n# Bangalore weather in August 2025\\n\\nThe weather in Bangalore in August is hot. The average temperatures are between 20°C and 28°C.\\n\\nYou can expect rain for roughly half of the month of August in Bangalore. We’re expecting roughly 8 to 15 days of rain, so your rubber boots and umbrella are going to see plenty of use this month if you’re keen on staying dry. [...] Moderate or heavy rain shower\\nPatchy rain possible\\nPartly cloudy\\nPatchy rain possible\\nLight rain shower\\nLight rain shower\\nLight rain shower\\nLight rain shower\\nPatchy rain possible\\nLight rain shower\\nLight rain shower\\nPatchy rain possible\\nCloudy\\nPartly cloudy\\nPatchy rain possible\\nPartly cloudy\\nLight rain shower\\nTorrential rain shower\\nModerate or heavy rain shower\\nPatchy rain possible\\nModerate or heavy rain shower\\nPatchy rain possible\\nPatchy rain possible\\nPatchy rain possible\\nPatchy rain possible [...] Our weather forecast can give you a great sense of what weather to expect in Bangalore in August 2025.\\n\\nIf you’re planning to visit Bangalore in the near future, we highly recommend that you review the 14 day weather forecast for Bangalore before you arrive.\\n\\nTemperatures\\nRainy Days\\nSnowy Days\\nDry Days\\nRainfall\\n10.3', 'score': 0.9317675, 'raw_content': None}, {'url': 'https://www.timeanddate.com/weather/india/bengaluru/historic', 'title': 'Past Weather in Bengaluru, Karnataka, India — Yesterday or Further ...', 'content': '| 11:00 pm |  | 73 °F | Passing clouds. | 13 mph | ↑ | 83% | 29.98 \"Hg | 4 mi |\\n|  |  |  |  |  |  |  |  |  |\\n| --- | --- | --- | --- | --- | --- | --- | --- | --- |\\n| Weather by CustomWeather, © 2025 | | | | | | | | | [...] | 8:30 pm |  | 77 °F | Passing clouds. | 13 mph | ↑ | 74% | 29.92 \"Hg | 4 mi |\\n| 8:00 pm |  | 77 °F | Passing clouds. | 10 mph | ↑ | 74% | 29.92 \"Hg | 4 mi |\\n| 7:30 pm |  | 77 °F | Passing clouds. | 12 mph | ↑ | 74% | 29.92 \"Hg | 4 mi |\\n| 7:00 pm |  | 79 °F | Broken clouds. | 15 mph | ↑ | 70% | 29.89 \"Hg | 4 mi |\\n| 6:30 pm |  | 79 °F | Broken clouds. | 15 mph | ↑ | 70% | 29.89 \"Hg | 4 mi |\\n| 6:00 pm |  | 82 °F | Broken clouds. | 12 mph | ↑ | 62% | 29.89 \"Hg | 4 mi | [...] | 11:30 am |  | 81 °F | Scattered clouds. | 16 mph | ↑ | 66% | 29.95 \"Hg | N/A |\\n| 11:00 am |  | 81 °F | Scattered clouds. | 18 mph | ↑ | 66% | 29.95 \"Hg | 5 mi |\\n| 10:30 am |  | 81 °F | Scattered clouds. | 16 mph | ↑ | 66% | 29.95 \"Hg | 5 mi |\\n| 10:00 am |  | 79 °F | Scattered clouds. | 16 mph | ↑ | 70% | 29.95 \"Hg | 5 mi |\\n| 9:30 am |  | 77 °F | Scattered clouds. | 16 mph | ↑ | 74% | 29.95 \"Hg | 5 mi |\\n| 9:00 am |  | 75 °F | Scattered clouds. | 15 mph | ↑ | 83% | 29.95 \"Hg | 5 mi |', 'score': 0.8559598, 'raw_content': None}, {'url': 'https://www.weather25.com/asia/india/karnataka/bangalore?page=past-weather', 'title': 'Bangalore historical past weather | Weather25.com', 'content': 'weather25.com\\nSearch\\nweather in India\\nRemove from your favorite locations\\nAdd to my locations\\nShare\\nweather in India\\n\\n# Bangalore Historical Past Weather\\n\\nThis page shows the past year’s weather in Bangalore on .\\n\\nIt can give you an idea of what the weather in Bangalore might be like on .\\n\\nTemperature\\nChance of rain\\nWind\\nHumidity\\nweather\\nweather25.com\\n\\nBangalore weather data is sourced from official meteorological authorities worldwide, ensuring accuracy and reliability.', 'score': 0.44145688, 'raw_content': None}, {'url': 'https://www.wunderground.com/history/daily/in/colgong/yesterday', 'title': 'Bengaluru, India Weather History', 'content': 'The Weather Company Logo\\nThe Weather Channel Logo\\nWeather Underground Logo\\nStorm Radar Logo\\n\\n© Copyright TWC Product and Technology LLC 2014, 2025 [...] # Bengaluru, Karnataka, India Weather Historystar\\\\_ratehome\\n\\nicon\\n\\nThank you for reporting this station. We will review the data in question.\\n\\nYou are about to report this weather station for bad data. Please select the information that is incorrect.\\n\\nSee more\\n\\n(Reset Map)\\n\\nNo PWS\\n\\nReset Map, or Add PWS.\\n\\nAccess Logo\\n\\nWe recognize our responsibility to use data and technology for good. We may use or share your data with our data vendors. Take control of your data.', 'score': 0.37202653, 'raw_content': None}], 'response_time': 9.93}),\n",
       "  AIMessage(content='The weather in Vallabhapuram today is cloudy with occasional showers overnight. The high temperature is expected to be around 98F, while the low is expected to be around 83F.\\n\\nThe weather in Bangalore yesterday was mostly cloudy with scattered clouds and a high temperature of around 81F. The low temperature was around 75F.', additional_kwargs={}, response_metadata={'token_usage': {'completion_tokens': 71, 'prompt_tokens': 3899, 'total_tokens': 3970, 'completion_time': 0.135661111, 'prompt_time': 0.257415059, 'queue_time': 0.051163911000000006, 'total_time': 0.39307617}, 'model_name': 'llama-3.1-8b-instant', 'system_fingerprint': 'fp_8ab2e50475', 'finish_reason': 'stop', 'logprobs': None}, id='run--75ecfe9b-fadb-4008-a195-9b87d68e875e-0', usage_metadata={'input_tokens': 3899, 'output_tokens': 71, 'total_tokens': 3970})]}"
      ]
     },
     "execution_count": 15,
     "metadata": {},
     "output_type": "execute_result"
    }
   ],
   "source": [
    "parent_graph = StateGraph(ParentState)\n",
    "parent_graph.add_node(\"child_agent\",child_app)\n",
    "\n",
    "parent_graph.add_edge(START,\"child_agent\")\n",
    "parent_graph.add_edge(\"child_agent\",END)\n",
    "\n",
    "parent_app = parent_graph.compile()\n",
    "\n",
    "parent_app.invoke({\"messages\":[\"whats the weather like in vallabhapuram today, and weather in banglore yesterday\"]})"
   ]
  },
  {
   "cell_type": "markdown",
   "id": "f5b4c7db",
   "metadata": {},
   "source": [
    "### When parent and child have different schemas"
   ]
  },
  {
   "cell_type": "code",
   "execution_count": 33,
   "id": "f5388033",
   "metadata": {},
   "outputs": [],
   "source": [
    "class ParentState2(TypedDict):\n",
    "    query: str\n",
    "    response : str\n"
   ]
  },
  {
   "cell_type": "code",
   "execution_count": 34,
   "id": "58aeb9f6",
   "metadata": {},
   "outputs": [],
   "source": [
    "def intermediate_node(state:ParentState2):\n",
    "    response = child_app.invoke(\n",
    "        {\n",
    "            \"messages\":state[\"query\"]\n",
    "        }\n",
    "    )\n",
    "    state[\"response\"] = response[\"messages\"][-1].content\n",
    "    return state\n"
   ]
  },
  {
   "cell_type": "code",
   "execution_count": 37,
   "id": "84ec000e",
   "metadata": {},
   "outputs": [
    {
     "data": {
      "text/plain": [
       "{'query': 'whats the weather like in vallabhapuram today, and weather in banglore yesterday',\n",
       " 'response': 'The weather in Vallabhapuram today is mostly cloudy with occasional showers and a high of 98F. \\n\\nThe weather in Bangalore yesterday was pleasant with temperatures ranging from 70F to 86F and scattered clouds.'}"
      ]
     },
     "execution_count": 37,
     "metadata": {},
     "output_type": "execute_result"
    }
   ],
   "source": [
    "parent_graph_2 = StateGraph(ParentState2)\n",
    "parent_graph_2.add_node(\"child_agent\",intermediate_node)\n",
    "\n",
    "parent_graph_2.add_edge(START,\"child_agent\")\n",
    "parent_graph_2.add_edge(\"child_agent\",END)\n",
    "\n",
    "parent_graph_2 = parent_graph_2.compile()\n",
    "\n",
    "parent_graph_2.invoke({\"query\":\"whats the weather like in vallabhapuram today, and weather in banglore yesterday\",\"response\":\"\"})"
   ]
  },
  {
   "cell_type": "code",
   "execution_count": null,
   "id": "ee662fbc",
   "metadata": {},
   "outputs": [],
   "source": []
  },
  {
   "cell_type": "code",
   "execution_count": null,
   "id": "cf3a696a",
   "metadata": {},
   "outputs": [],
   "source": []
  }
 ],
 "metadata": {
  "kernelspec": {
   "display_name": "Python 3",
   "language": "python",
   "name": "python3"
  },
  "language_info": {
   "codemirror_mode": {
    "name": "ipython",
    "version": 3
   },
   "file_extension": ".py",
   "mimetype": "text/x-python",
   "name": "python",
   "nbconvert_exporter": "python",
   "pygments_lexer": "ipython3",
   "version": "3.12.7"
  }
 },
 "nbformat": 4,
 "nbformat_minor": 5
}
