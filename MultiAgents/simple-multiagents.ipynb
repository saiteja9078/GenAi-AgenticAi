{
 "cells": [
  {
   "cell_type": "code",
   "execution_count": 1,
   "id": "a8871c60",
   "metadata": {},
   "outputs": [
    {
     "name": "stderr",
     "output_type": "stream",
     "text": [
      "/var/folders/gk/cm66kf9j5qj4vzctc4gt_sxr0000gn/T/ipykernel_27346/1835026789.py:13: LangChainDeprecationWarning: The class `TavilySearchResults` was deprecated in LangChain 0.3.25 and will be removed in 1.0. An updated version of the class exists in the :class:`~langchain-tavily package and should be used instead. To use it run `pip install -U :class:`~langchain-tavily` and import as `from :class:`~langchain_tavily import TavilySearch``.\n",
      "  search_tool = TavilySearchResults(max_results=4)\n"
     ]
    }
   ],
   "source": [
    "from typing import TypedDict,Annotated\n",
    "from dotenv import load_dotenv\n",
    "from langchain_core.messages import AIMessage,HumanMessage,SystemMessage\n",
    "from langchain_groq import ChatGroq\n",
    "from langgraph.graph import StateGraph,END,add_messages\n",
    "from langchain_community.tools import TavilySearchResults\n",
    "from langgraph.prebuilt import ToolNode\n",
    "load_dotenv()\n",
    "\n",
    "llm = ChatGroq(\n",
    "    model=\"llama-3.1-8b-instant\",\n",
    ")\n",
    "search_tool = TavilySearchResults(max_results=4)\n",
    "llm_with_tools = llm.bind_tools([search_tool])"
   ]
  },
  {
   "cell_type": "code",
   "execution_count": 2,
   "id": "9cf347f4",
   "metadata": {},
   "outputs": [],
   "source": [
    "class ChildState(TypedDict):\n",
    "    messages: Annotated[list,add_messages]"
   ]
  },
  {
   "cell_type": "code",
   "execution_count": 3,
   "id": "d4b46109",
   "metadata": {},
   "outputs": [],
   "source": [
    "def llm_node(state: ChildState):\n",
    "    return {\n",
    "        \"messages\":[llm_with_tools.invoke(state[\"messages\"])]\n",
    "    }\n",
    "def conditional_edge(state: ChildState):\n",
    " return \"tool_node\" if hasattr(state[\"messages\"][-1],\"tool_calls\") and len(state[\"messages\"][-1].tool_calls)>0 else END"
   ]
  },
  {
   "cell_type": "code",
   "execution_count": 4,
   "id": "84628a44",
   "metadata": {},
   "outputs": [],
   "source": [
    "tool_node = ToolNode([search_tool],messages_key=\"messages\")\n",
    "graph = StateGraph(ChildState)\n",
    "graph.add_node(\"llm_node\",llm_node)\n",
    "graph.add_node(\"tool_node\",tool_node)\n",
    "graph.add_conditional_edges(\"llm_node\",conditional_edge,{\"tool_node\":\"tool_node\",END:END})\n",
    "graph.add_edge(\"tool_node\",\"llm_node\")\n",
    "graph.set_entry_point(\"llm_node\")\n",
    "app = graph.compile()"
   ]
  },
  {
   "cell_type": "code",
   "execution_count": null,
   "id": "b202eec3",
   "metadata": {},
   "outputs": [],
   "source": []
  }
 ],
 "metadata": {
  "kernelspec": {
   "display_name": "Python 3",
   "language": "python",
   "name": "python3"
  },
  "language_info": {
   "codemirror_mode": {
    "name": "ipython",
    "version": 3
   },
   "file_extension": ".py",
   "mimetype": "text/x-python",
   "name": "python",
   "nbconvert_exporter": "python",
   "pygments_lexer": "ipython3",
   "version": "3.12.7"
  }
 },
 "nbformat": 4,
 "nbformat_minor": 5
}
