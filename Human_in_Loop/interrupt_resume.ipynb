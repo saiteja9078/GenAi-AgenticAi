{
 "cells": [
  {
   "cell_type": "code",
   "execution_count": 6,
   "id": "7a5cfeaf",
   "metadata": {},
   "outputs": [],
   "source": [
    "from dotenv import load_dotenv\n",
    "from langgraph.graph import StateGraph,END,add_messages\n",
    "from langgraph.types import Command,interrupt\n",
    "from langchain_core.messages import AIMessage,HumanMessage,SystemMessage\n",
    "from langchain_core.prompts import ChatPromptTemplate\n",
    "from langchain_groq import ChatGroq\n",
    "from langgraph.checkpoint.memory import MemorySaver\n",
    "from typing import TypedDict,Annotated\n",
    "load_dotenv()\n",
    "\n",
    "llm = ChatGroq(\n",
    "    model=\"llama-3.1-8b-instant\",\n",
    ")\n",
    "memory = MemorySaver()\n"
   ]
  },
  {
   "cell_type": "code",
   "execution_count": null,
   "id": "ce156aa8",
   "metadata": {},
   "outputs": [],
   "source": [
    "class AgentState(TypedDict):\n",
    "    message: str\n",
    "def node_a(state: AgentState):\n",
    "    print(\"Inside node a\")\n",
    "    return Command(\n",
    "        goto=\"node_b\",\n",
    "        update={\n",
    "            \"message\":state[\"message\"]+\"a\"\n",
    "        }\n",
    "    )\n",
    "\n",
    "def node_b(state: AgentState):\n",
    "    print(\"\\ninside node b\\t\")\n",
    "    human_response = interrupt(\"you want to go node c or d?\")\n",
    "    print(f'human response: {human_response}')\n",
    "    if(human_response==\"c\"):\n",
    "        return Command(\n",
    "            goto=\"node_c\",\n",
    "            update={\n",
    "                \"message\":state[\"message\"]+\"b\"\n",
    "            }\n",
    "        )\n",
    "    else:\n",
    "        return Command(\n",
    "        goto=\"node_c\",\n",
    "        update={\n",
    "            \"message\":state[\"message\"]+\"b\"\n",
    "        }\n",
    "            )\n",
    "\n",
    "\n",
    "def node_c(state:AgentState):\n",
    "    print(f\"inside node c\")\n",
    "    return Command(\n",
    "        goto=END,\n",
    "        update={\n",
    "            \"message\":state[\"message\"]+\"c\"\n",
    "        }\n",
    "    )\n",
    "def node_d(state: AgentState):\n",
    "    print(\"inside node d\")\n",
    "    return Command(\n",
    "        goto=END,\n",
    "        update={\n",
    "            \"message\":state[\"message\"]+\"d\"\n",
    "        }\n",
    "    )\n"
   ]
  },
  {
   "cell_type": "code",
   "execution_count": 20,
   "id": "1076432b",
   "metadata": {},
   "outputs": [
    {
     "name": "stdout",
     "output_type": "stream",
     "text": [
      "Inside node a\n",
      "\n",
      "inside node b\t\n"
     ]
    },
    {
     "data": {
      "text/plain": [
       "[{'node_a': {'message': 'a'}},\n",
       " {'__interrupt__': (Interrupt(value='you want to go node c or d?', resumable=True, ns=['node_b:cf113922-9fd3-19b3-71c3-09179840c76a']),)}]"
      ]
     },
     "execution_count": 20,
     "metadata": {},
     "output_type": "execute_result"
    }
   ],
   "source": [
    "graph = StateGraph(AgentState)\n",
    "\n",
    "graph.add_node(\"node_a\",node_a)\n",
    "graph.add_node(\"node_b\",node_b)\n",
    "graph.add_node('node_c',node_c)\n",
    "graph.add_node(\"node_d\",node_d)\n",
    "graph.set_entry_point(\"node_a\")\n",
    "app = graph.compile(checkpointer=memory)\n",
    "config = {\n",
    "    \"configurable\":{\"thread_id\":1}\n",
    "}\n",
    "result_1 = app.invoke({\n",
    "        \"message\":\"\"\n",
    "    },config=config,stream_mode=\"updates\")\n",
    "result_1"
   ]
  },
  {
   "cell_type": "code",
   "execution_count": 21,
   "id": "7e8ae6d1",
   "metadata": {},
   "outputs": [
    {
     "name": "stdout",
     "output_type": "stream",
     "text": [
      "('node_b',)\n"
     ]
    }
   ],
   "source": [
    "print(app.get_state(config).next)"
   ]
  },
  {
   "cell_type": "code",
   "execution_count": 23,
   "id": "935e62dd",
   "metadata": {},
   "outputs": [
    {
     "data": {
      "text/plain": [
       "[]"
      ]
     },
     "execution_count": 23,
     "metadata": {},
     "output_type": "execute_result"
    }
   ],
   "source": [
    "result_2 = app.invoke(Command(resume=\"c\"),config=config,stream_mode=\"updates\")\n",
    "result_2"
   ]
  },
  {
   "cell_type": "code",
   "execution_count": null,
   "id": "7f9165cf",
   "metadata": {},
   "outputs": [],
   "source": []
  }
 ],
 "metadata": {
  "kernelspec": {
   "display_name": "base",
   "language": "python",
   "name": "python3"
  },
  "language_info": {
   "codemirror_mode": {
    "name": "ipython",
    "version": 3
   },
   "file_extension": ".py",
   "mimetype": "text/x-python",
   "name": "python",
   "nbconvert_exporter": "python",
   "pygments_lexer": "ipython3",
   "version": "3.12.7"
  }
 },
 "nbformat": 4,
 "nbformat_minor": 5
}
