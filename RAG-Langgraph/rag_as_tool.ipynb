{
 "cells": [
  {
   "cell_type": "code",
   "execution_count": 1,
   "id": "a6cea6d7",
   "metadata": {},
   "outputs": [
    {
     "name": "stderr",
     "output_type": "stream",
     "text": [
      "/var/folders/gk/cm66kf9j5qj4vzctc4gt_sxr0000gn/T/ipykernel_46744/121061764.py:11: LangChainDeprecationWarning: The class `HuggingFaceEmbeddings` was deprecated in LangChain 0.2.2 and will be removed in 1.0. An updated version of the class exists in the :class:`~langchain-huggingface package and should be used instead. To use it run `pip install -U :class:`~langchain-huggingface` and import as `from :class:`~langchain_huggingface import HuggingFaceEmbeddings``.\n",
      "  embeddings = HuggingFaceEmbeddings(model_name=\"all-MiniLM-L6-v2\")\n"
     ]
    }
   ],
   "source": [
    "from dotenv import load_dotenv\n",
    "from langgraph.graph import StateGraph,END,add_messages,START\n",
    "from langgraph.types import Command,interrupt\n",
    "from langchain_core.messages import AIMessage,HumanMessage,SystemMessage\n",
    "from langchain_core.prompts import ChatPromptTemplate\n",
    "from typing import TypedDict,Annotated\n",
    "from langchain_community.vectorstores import Chroma\n",
    "load_dotenv()\n",
    "from langchain.embeddings import HuggingFaceEmbeddings\n",
    "from langchain_google_genai import ChatGoogleGenerativeAI\n",
    "embeddings = HuggingFaceEmbeddings(model_name=\"all-MiniLM-L6-v2\")\n",
    "llm = ChatGoogleGenerativeAI(\n",
    "    model=\"gemini-2.5-flash\",\n",
    "    temperature=0\n",
    ")"
   ]
  },
  {
   "cell_type": "code",
   "execution_count": 4,
   "id": "f6e1e502",
   "metadata": {},
   "outputs": [],
   "source": [
    "from langchain.schema import Document\n",
    "\n",
    "# NexaTech Solutions - Company Knowledge Base Documents\n",
    "docs = [\n",
    "    Document(\n",
    "        page_content=\"\"\" \n",
    "NexaTech Solutions is a leading technology consulting and software development company founded in 2018.\n",
    "We specialize in enterprise software solutions, cloud infrastructure, and digital transformation services.\n",
    "Our headquarters is located in Austin, Texas, with additional offices in Denver, Seattle, and Miami.\n",
    "The company employs over 250 skilled professionals including software engineers, data scientists, and project managers.\n",
    "We serve clients across healthcare, finance, retail, and manufacturing industries.\n",
    "Our core values include innovation, reliability, and customer success.\n",
    "Office Hours: Monday-Friday 8:00 AM - 6:00 PM (Central Time)\n",
    "Main Reception: (512) 555-0100\n",
    "Address: 4567 Tech Boulevard, Austin, TX 78701\n",
    "CEO: Sarah Mitchell | CTO: David Chen\n",
    "        \"\"\",\n",
    "        metadata={\"source\": \"nexatech/company_overview\", \"department\": \"administration\", \"last_updated\": \"2024-01-15\"}\n",
    "    ),\n",
    "    \n",
    "    Document(\n",
    "        page_content=\"\"\" \n",
    "NexaTech Solutions Software Development Department is our largest division with 80+ experienced developers.\n",
    "We develop custom web applications, mobile apps, and enterprise software using modern technologies.\n",
    "Our tech stack includes React, Node.js, Python, Java, AWS, and Kubernetes.\n",
    "The development team follows Agile methodologies with 2-week sprints and continuous integration/deployment.\n",
    "We offer full-stack development, API integration, database design, and system architecture services.\n",
    "Current projects include a healthcare management system, e-commerce platform, and IoT dashboard.\n",
    "Development Hours: Monday-Friday 9:00 AM - 6:00 PM, On-call support available 24/7\n",
    "Team Lead: Michael Rodriguez | Email: dev@nexatech.com\n",
    "Emergency Support: (512) 555-0101\n",
    "Project Timeline: Average 3-6 months for enterprise solutions\n",
    "        \"\"\",\n",
    "        metadata={\"source\": \"nexatech/software_development\", \"department\": \"development\", \"last_updated\": \"2024-01-10\"}\n",
    "    ),\n",
    "    \n",
    "    Document(\n",
    "        page_content=\"\"\" \n",
    "NexaTech Solutions Cloud Infrastructure Division manages enterprise cloud deployments and DevOps operations.\n",
    "We provide AWS, Azure, and Google Cloud consulting, migration services, and 24/7 infrastructure monitoring.\n",
    "Our services include containerization, microservices architecture, and automated CI/CD pipelines.\n",
    "The team maintains 99.9% uptime for client applications and provides disaster recovery solutions.\n",
    "We specialize in cost optimization, security compliance, and scalable infrastructure design.\n",
    "Current certifications include AWS Solutions Architect, Azure DevOps Engineer, and Google Cloud Professional.\n",
    "Operations Center Hours: 24/7 monitoring and support\n",
    "Response Time: Critical issues within 15 minutes, Standard issues within 2 hours\n",
    "Team Lead: Jennifer Park | Email: cloud@nexatech.com\n",
    "Emergency Hotline: (512) 555-0102\n",
    "Monthly SLA Reports: Available first Monday of each month\n",
    "        \"\"\",\n",
    "        metadata={\"source\": \"nexatech/cloud_infrastructure\", \"department\": \"operations\", \"last_updated\": \"2024-01-08\"}\n",
    "    ),\n",
    "    \n",
    "    Document(\n",
    "        page_content=\"\"\"\n",
    "NexaTech Solutions Data Analytics Department transforms raw data into actionable business insights.\n",
    "Our team of 15 data scientists and analysts work with machine learning, predictive modeling, and business intelligence.\n",
    "We use tools like Python, R, Tableau, Power BI, and Apache Spark for data processing and visualization.\n",
    "Services include data warehousing, ETL pipeline development, and custom dashboard creation.\n",
    "Recent projects include customer churn prediction, inventory optimization, and fraud detection systems.\n",
    "The department maintains partnerships with leading data platforms and cloud providers.\n",
    "Analytics Hours: Monday-Friday 8:30 AM - 5:30 PM (Central Time)\n",
    "Consultation Availability: Tuesday-Thursday 2:00 PM - 4:00 PM\n",
    "Team Lead: Dr. Amanda Foster | Email: analytics@nexatech.com\n",
    "Phone: (512) 555-0103\n",
    "Report Delivery: Standard reports within 5 business days\n",
    "\"\"\",\n",
    "        metadata={\"source\": \"nexatech/data_analytics\", \"department\": \"analytics\", \"last_updated\": \"2024-01-12\"}\n",
    "    ),\n",
    "    \n",
    "    Document(\n",
    "        page_content=\"\"\"\n",
    "NexaTech Solutions Cybersecurity Division provides comprehensive security services and compliance solutions.\n",
    "Our certified security experts conduct penetration testing, vulnerability assessments, and security audits.\n",
    "We implement multi-factor authentication, encryption protocols, and intrusion detection systems.\n",
    "The team ensures compliance with GDPR, HIPAA, SOC 2, and other regulatory requirements.\n",
    "Services include security training, incident response, and 24/7 threat monitoring.\n",
    "We maintain a Security Operations Center (SOC) with advanced threat intelligence capabilities.\n",
    "Security Operations: 24/7 monitoring and incident response\n",
    "Business Hours: Monday-Friday 8:00 AM - 7:00 PM (Central Time)\n",
    "Team Lead: Robert Thompson | Email: security@nexatech.com\n",
    "Emergency Security Line: (512) 555-0911\n",
    "Response Time: Security incidents within 30 minutes\n",
    "\"\"\",\n",
    "        metadata={\"source\": \"nexatech/cybersecurity\", \"department\": \"security\", \"last_updated\": \"2024-01-14\"}\n",
    "    ),\n",
    "    \n",
    "    Document(\n",
    "        page_content=\"\"\"\n",
    "NexaTech Solutions Customer Success Department ensures client satisfaction and long-term partnerships.\n",
    "Our team of 12 customer success managers provides onboarding, training, and ongoing support services.\n",
    "We offer comprehensive documentation, video tutorials, and regular check-in meetings with clients.\n",
    "The department tracks customer health scores, usage metrics, and satisfaction surveys.\n",
    "Services include project management, user training, and technical support coordination.\n",
    "We maintain a 95% client retention rate and 4.8/5 customer satisfaction score.\n",
    "Support Hours: Monday-Friday 7:00 AM - 8:00 PM (Central Time)\n",
    "Weekend Support: Saturday 9:00 AM - 2:00 PM (emergency only)\n",
    "Team Lead: Lisa Martinez | Email: success@nexatech.com\n",
    "Support Ticket System: support.nexatech.com\n",
    "Phone Support: (512) 555-0104\n",
    "\"\"\",\n",
    "        metadata={\"source\": \"nexatech/customer_success\", \"department\": \"support\", \"last_updated\": \"2024-01-11\"}\n",
    "    ),\n",
    "    \n",
    "    Document(\n",
    "        page_content=\"\"\"\n",
    "NexaTech Solutions Human Resources Department manages talent acquisition, employee development, and company culture.\n",
    "We employ 250+ professionals across four office locations with plans to expand to 350 by 2024.\n",
    "Our benefits package includes health insurance, retirement plans, flexible work arrangements, and professional development funds.\n",
    "The department organizes quarterly team building events, annual conferences, and skills training programs.\n",
    "We maintain partnerships with local universities for internship and graduate recruitment programs.\n",
    "Current open positions include Senior Software Engineers, Data Scientists, and Project Managers.\n",
    "HR Office Hours: Monday-Friday 8:00 AM - 5:00 PM (Central Time)\n",
    "Recruitment Hours: Monday-Thursday 9:00 AM - 4:00 PM\n",
    "HR Director: Patricia Wilson | Email: hr@nexatech.com\n",
    "Phone: (512) 555-0105\n",
    "Career Portal: careers.nexatech.com\n",
    "\"\"\",\n",
    "        metadata={\"source\": \"nexatech/human_resources\", \"department\": \"hr\", \"last_updated\": \"2024-01-13\"}\n",
    "    ),\n",
    "    \n",
    "    Document(\n",
    "        page_content=\"\"\"\n",
    "NexaTech Solutions Finance and Accounting Department manages financial operations, budgeting, and client billing.\n",
    "We process over $25 million in annual revenue and maintain detailed financial reporting for stakeholders.\n",
    "The department handles accounts receivable, payroll processing, and vendor management.\n",
    "We provide quarterly financial reports, project cost analysis, and budget forecasting services.\n",
    "Our accounting practices comply with GAAP standards and undergo annual independent audits.\n",
    "We offer flexible payment terms and multiple billing options for enterprise clients.\n",
    "Finance Hours: Monday-Friday 8:00 AM - 6:00 PM (Central Time)\n",
    "Billing Inquiries: Monday-Friday 9:00 AM - 5:00 PM\n",
    "CFO: Mark Stevens | Email: finance@nexatech.com\n",
    "Accounts Receivable: (512) 555-0106\n",
    "Payment Portal: billing.nexatech.com\n",
    "Invoice Questions: billing@nexatech.com\n",
    "\"\"\",\n",
    "        metadata={\"source\": \"nexatech/finance_accounting\", \"department\": \"finance\", \"last_updated\": \"2024-01-09\"}\n",
    "    ),\n",
    "]\n",
    "\n",
    "# Description of the NexaTech Solutions Retrieval System\n",
    "retrieval_system_description = \"\"\"\n",
    "This document retrieval system serves as the central knowledge base for NexaTech Solutions, a full-service technology consulting and software development company based in Austin, Texas. The system contains comprehensive information about all company departments including software development, cloud infrastructure, data analytics, cybersecurity, customer success, human resources, and finance. It provides real-time access to operational hours, contact details, service offerings, team leadership information, and emergency support numbers across all divisions. The system enables semantic search capabilities allowing employees, clients, and partners to quickly find relevant information about services, contacts, schedules, and procedures using natural language queries.\n",
    "\"\"\"\n",
    "db = Chroma.from_documents(documents=docs,embedding=embeddings)"
   ]
  },
  {
   "cell_type": "code",
   "execution_count": null,
   "id": "84ade4c6",
   "metadata": {},
   "outputs": [
    {
     "data": {
      "text/plain": [
       "[Document(metadata={'source': 'nexatech/human_resources', 'department': 'hr', 'last_updated': '2024-01-13'}, page_content='\\nNexaTech Solutions Human Resources Department manages talent acquisition, employee development, and company culture.\\nWe employ 250+ professionals across four office locations with plans to expand to 350 by 2024.\\nOur benefits package includes health insurance, retirement plans, flexible work arrangements, and professional development funds.\\nThe department organizes quarterly team building events, annual conferences, and skills training programs.\\nWe maintain partnerships with local universities for internship and graduate recruitment programs.\\nCurrent open positions include Senior Software Engineers, Data Scientists, and Project Managers.\\nHR Office Hours: Monday-Friday 8:00 AM - 5:00 PM (Central Time)\\nRecruitment Hours: Monday-Thursday 9:00 AM - 4:00 PM\\nHR Director: Patricia Wilson | Email: hr@nexatech.com\\nPhone: (512) 555-0105\\nCareer Portal: careers.nexatech.com\\n'),\n",
       " Document(metadata={'source': 'neovision/team_culture'}, page_content=' \\nThe Culture and Leadership Department at NeoVision AI Labs, staffed by 8 specialists, runs from 9 AM to 5 PM on weekdays. Inspired by resilience principles from ninja tales such as Naruto, this team develops leadership training modules that emphasize adaptability and perseverance. Their work ensures a collaborative and motivated workplace aligned with our organizational values.\\n        '),\n",
       " Document(metadata={'source': 'neovision/algorithms/similarity_engine'}, page_content='\\nNeoVision’s Algorithmic Research team, with 12 members working flexible hours, develops our similarity search engines. Using advanced metrics like cosine similarity and graph indexes such as HNSW, they ensure efficient retrieval at scale, powering both internal AI agents and client-facing chatbots.\\n        '),\n",
       " Document(metadata={'source': 'neovision/open/chromadb'}, page_content='\\nChromaDB is maintained by our Open Source Integration team of 7 developers, available 9 AM to 6 PM. This vector database supports namespace management and metadata filtering, seamlessly integrating with LangChain to enable persistent document management for long-term AI memory storage.\\n        ')]"
      ]
     },
     "execution_count": 6,
     "metadata": {},
     "output_type": "execute_result"
    }
   ],
   "source": [
    "retriever = db.as_retriever(search_type=\"mmr\",search_kwargs={\"k\":4})\n",
    "retriever.invoke(\"what are tinings of recruitment hours\")"
   ]
  },
  {
   "cell_type": "code",
   "execution_count": 52,
   "id": "6651d70d",
   "metadata": {},
   "outputs": [],
   "source": [
    "from langchain.tools.retriever import create_retriever_tool\n",
    "from langchain.tools import tool\n",
    "retrieval_tool = create_retriever_tool(\n",
    "    retriever,\n",
    "    \"retriever_tool\",\n",
    "    retrieval_system_description\n",
    ")\n",
    "\n",
    "@tool\n",
    "def off_topic():\n",
    "    \"\"\"catch this tool If the question is not related to this context: \n",
    "      NexaTech Solutions, a full-service technology consulting and software development company based in Austin, Texas. The system contains comprehensive information about all company departments including software development, cloud infrastructure, data analytics, \n",
    "      cybersecurity, customer success, human resources, and finance. It provides real-time access to operational hours, contact details,\n",
    "        service offerings, team leadership information, and emergency support numbers across all divisions. \n",
    "        The system enables semantic search capabilities allowing employees, clients, and partners to quickly find relevant \n",
    "        information about services, contacts, schedules, and procedures using natural language queries.\n",
    "\"\"\"\n",
    "    return \"Forbidden - dont answer this\"\n",
    "llm=llm.bind_tools([retrieval_tool,off_topic])"
   ]
  },
  {
   "cell_type": "code",
   "execution_count": 53,
   "id": "0ddef780",
   "metadata": {},
   "outputs": [],
   "source": [
    "from langgraph.graph import StateGraph,END,add_messages,START\n",
    "from langchain_core.messages import BaseMessage\n",
    "from typing import TypedDict,Annotated,Sequence\n",
    "class AgentState(TypedDict):\n",
    "    messages: Annotated[Sequence[BaseMessage],add_messages]\n",
    "\n",
    "def llm_node(state: AgentState):\n",
    "    response = llm.invoke(state[\"messages\"])\n",
    "    return {\n",
    "        \"messages\":[response]\n",
    "    }\n",
    "\n",
    "def tool_router(state:AgentState):\n",
    "    message = state[\"messages\"][-1]\n",
    "    if message.tool_calls:\n",
    "        return \"tool_exec\"\n",
    "    else:\n",
    "        return END\n"
   ]
  },
  {
   "cell_type": "code",
   "execution_count": 54,
   "id": "319462b9",
   "metadata": {},
   "outputs": [],
   "source": [
    "from langgraph.prebuilt import ToolNode\n",
    "graph = StateGraph(AgentState)\n",
    "\n",
    "graph.add_node(\"llm_node\",llm_node)\n",
    "\n",
    "\n",
    "tool_node = ToolNode([off_topic,retrieval_tool])\n",
    "\n",
    "graph.add_node(\"tool_node\",tool_node)\n",
    "\n",
    "graph.add_edge(\"tool_node\",\"llm_node\")\n",
    "\n",
    "graph.add_conditional_edges(\n",
    "    \"llm_node\",tool_router,{\"tool_exec\":\"tool_node\",END:END}\n",
    ")\n",
    "graph.add_edge(START,\"llm_node\")\n",
    "\n",
    "app=graph.compile()"
   ]
  },
  {
   "cell_type": "code",
   "execution_count": 55,
   "id": "c588ade3",
   "metadata": {},
   "outputs": [
    {
     "data": {
      "text/plain": [
       "{'messages': [HumanMessage(content='what are the timings for research', additional_kwargs={}, response_metadata={}, id='2a7ba643-cee5-4ad0-a418-c59c70718fa1'),\n",
       "  AIMessage(content='', additional_kwargs={'function_call': {'name': 'retriever_tool', 'arguments': '{\"query\": \"timings for research\"}'}}, response_metadata={'prompt_feedback': {'block_reason': 0, 'safety_ratings': []}, 'finish_reason': 'STOP', 'model_name': 'gemini-2.5-flash', 'safety_ratings': []}, id='run--f7450e03-cff1-4a71-bda9-c90578f6ee7f-0', tool_calls=[{'name': 'retriever_tool', 'args': {'query': 'timings for research'}, 'id': '03fdb0a2-0c23-4b37-99fe-73b239bc14a3', 'type': 'tool_call'}], usage_metadata={'input_tokens': 327, 'output_tokens': 19, 'total_tokens': 797, 'input_token_details': {'cache_read': 0}, 'output_token_details': {'reasoning': 451}}),\n",
       "  ToolMessage(content=' \\nNeoVision AI Labs operates Monday to Friday, 9 AM to 6 PM, with a dedicated Creative Storytelling team of 12 members. Our media team draws inspiration from complex narratives like \"One Piece\" to enhance our AI storytelling models. We focus on deep lore, character development, and moral themes to create emotionally rich AI-generated narratives that resonate with diverse audiences.\\n        \\n\\n\\nNeoVision’s Algorithmic Research team, with 12 members working flexible hours, develops our similarity search engines. Using advanced metrics like cosine similarity and graph indexes such as HNSW, they ensure efficient retrieval at scale, powering both internal AI agents and client-facing chatbots.\\n        \\n\\n\\nChromaDB is maintained by our Open Source Integration team of 7 developers, available 9 AM to 6 PM. This vector database supports namespace management and metadata filtering, seamlessly integrating with LangChain to enable persistent document management for long-term AI memory storage.\\n        \\n\\n\\nNexaTech Solutions Finance and Accounting Department manages financial operations, budgeting, and client billing.\\nWe process over $25 million in annual revenue and maintain detailed financial reporting for stakeholders.\\nThe department handles accounts receivable, payroll processing, and vendor management.\\nWe provide quarterly financial reports, project cost analysis, and budget forecasting services.\\nOur accounting practices comply with GAAP standards and undergo annual independent audits.\\nWe offer flexible payment terms and multiple billing options for enterprise clients.\\nFinance Hours: Monday-Friday 8:00 AM - 6:00 PM (Central Time)\\nBilling Inquiries: Monday-Friday 9:00 AM - 5:00 PM\\nCFO: Mark Stevens | Email: finance@nexatech.com\\nAccounts Receivable: (512) 555-0106\\nPayment Portal: billing.nexatech.com\\nInvoice Questions: billing@nexatech.com\\n', name='retriever_tool', id='dedbda4f-17c9-411d-aa70-d850c1543c82', tool_call_id='03fdb0a2-0c23-4b37-99fe-73b239bc14a3'),\n",
       "  AIMessage(content='NeoVision’s Algorithmic Research team works flexible hours.', additional_kwargs={}, response_metadata={'prompt_feedback': {'block_reason': 0, 'safety_ratings': []}, 'finish_reason': 'STOP', 'model_name': 'gemini-2.5-flash', 'safety_ratings': []}, id='run--b0dc606a-f1bb-411f-bcb1-adfe9d72170d-0', usage_metadata={'input_tokens': 774, 'output_tokens': 13, 'total_tokens': 871, 'input_token_details': {'cache_read': 0}, 'output_token_details': {'reasoning': 84}})]}"
      ]
     },
     "execution_count": 55,
     "metadata": {},
     "output_type": "execute_result"
    }
   ],
   "source": [
    "from langchain_core.messages import HumanMessage\n",
    "\n",
    "app.invoke({\n",
    "    \"messages\": [HumanMessage(content=\"what are the timings for research\")]\n",
    "})\n"
   ]
  },
  {
   "cell_type": "code",
   "execution_count": 59,
   "id": "a0c21189",
   "metadata": {},
   "outputs": [
    {
     "data": {
      "text/plain": [
       "{'messages': [HumanMessage(content=\"It's 2:30 AM on a Saturday and our client's healthcare management system is down with a potential security breach. The client is losing $10,000 per hour. I need to know: Who should I contact first for emergency support, what's the expected response time, and which departments need to coordinate for both the technical fix and security incident response? Also, what compliance requirements do we need to consider since this involves healthcare data? solve thr problem step by step do multiple tool calls for each step\", additional_kwargs={}, response_metadata={}, id='378fa572-66ab-4339-a811-d4994725fcce'),\n",
       "  AIMessage(content='', additional_kwargs={'function_call': {'name': 'retriever_tool', 'arguments': '{\"query\": \"emergency support contact and response time\"}'}}, response_metadata={'prompt_feedback': {'block_reason': 0, 'safety_ratings': []}, 'finish_reason': 'STOP', 'model_name': 'gemini-2.5-flash', 'safety_ratings': []}, id='run--fa5e076d-4deb-446d-9798-ff6a2f4c81c4-0', tool_calls=[{'name': 'retriever_tool', 'args': {'query': 'emergency support contact and response time'}, 'id': 'e84da87a-0ef4-429f-8a9b-e8c24cbc0fa3', 'type': 'tool_call'}], usage_metadata={'input_tokens': 430, 'output_tokens': 21, 'total_tokens': 647, 'input_token_details': {'cache_read': 0}, 'output_token_details': {'reasoning': 196}}),\n",
       "  ToolMessage(content='\\nNexaTech Solutions Customer Success Department ensures client satisfaction and long-term partnerships.\\nOur team of 12 customer success managers provides onboarding, training, and ongoing support services.\\nWe offer comprehensive documentation, video tutorials, and regular check-in meetings with clients.\\nThe department tracks customer health scores, usage metrics, and satisfaction surveys.\\nServices include project management, user training, and technical support coordination.\\nWe maintain a 95% client retention rate and 4.8/5 customer satisfaction score.\\nSupport Hours: Monday-Friday 7:00 AM - 8:00 PM (Central Time)\\nWeekend Support: Saturday 9:00 AM - 2:00 PM (emergency only)\\nTeam Lead: Lisa Martinez | Email: success@nexatech.com\\nSupport Ticket System: support.nexatech.com\\nPhone Support: (512) 555-0104\\n\\n\\n\\nOur Infrastructure team, composed of 15 experts operating 24/7 in rotating shifts, manages the FAISS-based search backend. FAISS enables fast nearest neighbor search and clustering, vital for powering scalable semantic retrieval in NeoVision’s AI-powered assistants and memory modules.\\n        \\n\\n \\nOur Persona Design team, with 10 AI researchers working from 10 AM to 7 PM, studies influential characters like Monkey D. Luffy to create synthetic personas. These personas drive autonomous agents designed for empathy, leadership, and motivational intelligence in conversational AI applications.\\n        \\n\\n\\nChromaDB is maintained by our Open Source Integration team of 7 developers, available 9 AM to 6 PM. This vector database supports namespace management and metadata filtering, seamlessly integrating with LangChain to enable persistent document management for long-term AI memory storage.\\n        ', name='retriever_tool', id='12103e26-12db-47c9-b5de-cacddbef74aa', tool_call_id='e84da87a-0ef4-429f-8a9b-e8c24cbc0fa3'),\n",
       "  AIMessage(content='', additional_kwargs={'function_call': {'name': 'retriever_tool', 'arguments': '{\"query\": \"departments for technical fix and security incident response\"}'}}, response_metadata={'prompt_feedback': {'block_reason': 0, 'safety_ratings': []}, 'finish_reason': 'STOP', 'model_name': 'gemini-2.5-flash', 'safety_ratings': []}, id='run--9fd2c3b1-b948-4930-a879-3aad518adefc-0', tool_calls=[{'name': 'retriever_tool', 'args': {'query': 'departments for technical fix and security incident response'}, 'id': 'b1ea6723-48ca-4275-a274-6921d2889d12', 'type': 'tool_call'}], usage_metadata={'input_tokens': 856, 'output_tokens': 23, 'total_tokens': 1409, 'input_token_details': {'cache_read': 0}, 'output_token_details': {'reasoning': 530}}),\n",
       "  ToolMessage(content='\\nNexaTech Solutions Cybersecurity Division provides comprehensive security services and compliance solutions.\\nOur certified security experts conduct penetration testing, vulnerability assessments, and security audits.\\nWe implement multi-factor authentication, encryption protocols, and intrusion detection systems.\\nThe team ensures compliance with GDPR, HIPAA, SOC 2, and other regulatory requirements.\\nServices include security training, incident response, and 24/7 threat monitoring.\\nWe maintain a Security Operations Center (SOC) with advanced threat intelligence capabilities.\\nSecurity Operations: 24/7 monitoring and incident response\\nBusiness Hours: Monday-Friday 8:00 AM - 7:00 PM (Central Time)\\nTeam Lead: Robert Thompson | Email: security@nexatech.com\\nEmergency Security Line: (512) 555-0911\\nResponse Time: Security incidents within 30 minutes\\n\\n\\n\\nNexaTech Solutions Human Resources Department manages talent acquisition, employee development, and company culture.\\nWe employ 250+ professionals across four office locations with plans to expand to 350 by 2024.\\nOur benefits package includes health insurance, retirement plans, flexible work arrangements, and professional development funds.\\nThe department organizes quarterly team building events, annual conferences, and skills training programs.\\nWe maintain partnerships with local universities for internship and graduate recruitment programs.\\nCurrent open positions include Senior Software Engineers, Data Scientists, and Project Managers.\\nHR Office Hours: Monday-Friday 8:00 AM - 5:00 PM (Central Time)\\nRecruitment Hours: Monday-Thursday 9:00 AM - 4:00 PM\\nHR Director: Patricia Wilson | Email: hr@nexatech.com\\nPhone: (512) 555-0105\\nCareer Portal: careers.nexatech.com\\n\\n\\n \\nThe Culture and Leadership Department at NeoVision AI Labs, staffed by 8 specialists, runs from 9 AM to 5 PM on weekdays. Inspired by resilience principles from ninja tales such as Naruto, this team develops leadership training modules that emphasize adaptability and perseverance. Their work ensures a collaborative and motivated workplace aligned with our organizational values.\\n        \\n\\n\\nOur Infrastructure team, composed of 15 experts operating 24/7 in rotating shifts, manages the FAISS-based search backend. FAISS enables fast nearest neighbor search and clustering, vital for powering scalable semantic retrieval in NeoVision’s AI-powered assistants and memory modules.\\n        ', name='retriever_tool', id='8a2c7d68-462a-45f0-875e-d47c9ef8074a', tool_call_id='b1ea6723-48ca-4275-a274-6921d2889d12'),\n",
       "  AIMessage(content=\"Given the critical situation with your client's healthcare management system, here's the breakdown of who to contact and what steps to take:\\n\\n**1. Emergency Support Contact and Response Time:**\\n\\n*   **First Contact:** Immediately contact the **NexaTech Solutions Cybersecurity Division** via their **Emergency Security Line: (512) 555-0911**. Their **Response Time for security incidents is within 30 minutes**.\\n*   **Secondary Contact (for coordination and client communication):** Also, reach out to the **NexaTech Solutions Customer Success Department**. While their weekend support hours are 9:00 AM - 2:00 PM, they handle emergencies. You can try their **Phone Support: (512) 555-0104** or email their Team Lead, Lisa Martinez at success@nexatech.com.\\n\\n**2. Departments for Technical Fix and Security Incident Response:**\\n\\n*   **Security Incident Response:** The **NexaTech Solutions Cybersecurity Division** is explicitly responsible for incident response and has a Security Operations Center (SOC) with 24/7 monitoring.\\n*   **Technical Fix:** The **Infrastructure team** operates 24/7 in rotating shifts and manages the backend systems, making them crucial for the technical resolution of the system outage.\\n*   **Coordination:** These two departments (Cybersecurity and Infrastructure) will need to coordinate closely. The Customer Success Department should also be involved for client communication and management.\\n\\n**3. Compliance Requirements for Healthcare Data:**\\n\\n*   The **NexaTech Solutions Cybersecurity Division** explicitly states they ensure compliance with **HIPAA** (Health Insurance Portability and Accountability Act) and other regulatory requirements. Given this involves healthcare data, HIPAA compliance will be a primary concern for reporting, data breach notification, and remediation.\", additional_kwargs={}, response_metadata={'prompt_feedback': {'block_reason': 0, 'safety_ratings': []}, 'finish_reason': 'STOP', 'model_name': 'gemini-2.5-flash', 'safety_ratings': []}, id='run--02d0bafc-6a7a-47a8-87b6-1209a4732d24-0', usage_metadata={'input_tokens': 1433, 'output_tokens': 383, 'total_tokens': 2009, 'input_token_details': {'cache_read': 0}, 'output_token_details': {'reasoning': 193}})]}"
      ]
     },
     "execution_count": 59,
     "metadata": {},
     "output_type": "execute_result"
    }
   ],
   "source": [
    "app.invoke({\n",
    "    \"messages\": [HumanMessage(content=\"It's 2:30 AM on a Saturday and our client's healthcare management system is down with a potential security breach. The client is losing $10,000 per hour. I need to know: Who should I contact first for emergency support, what's the expected response time, and which departments need to coordinate for both the technical fix and security incident response? Also, what compliance requirements do we need to consider since this involves healthcare data? solve thr problem step by step do multiple tool calls for each step\")]\n",
    "})\n"
   ]
  },
  {
   "cell_type": "code",
   "execution_count": null,
   "id": "17a9e694",
   "metadata": {},
   "outputs": [],
   "source": []
  },
  {
   "cell_type": "code",
   "execution_count": null,
   "id": "b1a47821",
   "metadata": {},
   "outputs": [],
   "source": []
  },
  {
   "cell_type": "code",
   "execution_count": null,
   "id": "7586cb45",
   "metadata": {},
   "outputs": [],
   "source": []
  }
 ],
 "metadata": {
  "kernelspec": {
   "display_name": "base",
   "language": "python",
   "name": "python3"
  },
  "language_info": {
   "codemirror_mode": {
    "name": "ipython",
    "version": 3
   },
   "file_extension": ".py",
   "mimetype": "text/x-python",
   "name": "python",
   "nbconvert_exporter": "python",
   "pygments_lexer": "ipython3",
   "version": "3.12.7"
  }
 },
 "nbformat": 4,
 "nbformat_minor": 5
}
